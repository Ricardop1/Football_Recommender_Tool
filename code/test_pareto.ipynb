{
 "cells": [
  {
   "cell_type": "raw",
   "metadata": {
    "pycharm": {
     "name": ""
    }
   },
   "source": [
    "    #%%\n",
    "    import pandas as pd"
   ]
  },
  {
   "cell_type": "code",
   "execution_count": 6,
   "metadata": {
    "collapsed": false,
    "jupyter": {
     "outputs_hidden": false
    },
    "pycharm": {
     "name": "#%%\n"
    }
   },
   "outputs": [],
   "source": [
    "from paretoset import paretoset\n",
    "import pandas as pd"
   ]
  },
  {
   "cell_type": "code",
   "execution_count": 7,
   "metadata": {
    "collapsed": false,
    "jupyter": {
     "outputs_hidden": false
    },
    "pycharm": {
     "name": "#%%\n"
    }
   },
   "outputs": [],
   "source": [
    "def dominates(row, candidateRow):\n",
    "    return sum([row[x] >= candidateRow[x] for x in range(len(row))]) == len(row)\n",
    "\n",
    "\n",
    "def simple_cull(inputPoints):\n",
    "    paretoPoints = set()\n",
    "    candidateRowNr = 0\n",
    "    dominatedPoints = set()\n",
    "    while True:\n",
    "        candidateRow = inputPoints[candidateRowNr]\n",
    "        inputPoints.remove(candidateRow)\n",
    "        rowNr = 0\n",
    "        nonDominated = True\n",
    "        while len(inputPoints) != 0 and rowNr < len(inputPoints):\n",
    "            row = inputPoints[rowNr]\n",
    "            if dominates(candidateRow[1], row[1]):\n",
    "                # If it is worse on all features remove the row from the array\n",
    "                inputPoints.remove(row)\n",
    "                dominatedPoints.add(tuple(tuple(i) for i in row))\n",
    "            elif dominates(row[1], candidateRow[1]):\n",
    "                nonDominated = False\n",
    "                dominatedPoints.add(tuple(tuple(i) for i in candidateRow))\n",
    "                rowNr += 1\n",
    "            else:\n",
    "                rowNr += 1\n",
    "\n",
    "        if nonDominated:\n",
    "            # add the non-dominated point to the Pareto frontier\n",
    "            paretoPoints.add(tuple(tuple(i) for i in candidateRow))\n",
    "\n",
    "        if len(inputPoints) == 0:\n",
    "            break\n",
    "    return paretoPoints, dominatedPoints"
   ]
  },
  {
   "cell_type": "code",
   "execution_count": 8,
   "metadata": {
    "collapsed": false,
    "jupyter": {
     "outputs_hidden": false
    },
    "pycharm": {
     "name": "#%%\n"
    }
   },
   "outputs": [],
   "source": [
    "def pareto_position_country_season(df,position,country,categories):\n",
    "    data = df.loc[df['Nation'] == country].loc[df[\"Pos\"] == position]\n",
    "\n",
    "    ids = ['Player']\n",
    "    ids_points = data[ids].to_numpy().tolist()\n",
    "\n",
    "    points = data[categories].to_numpy().tolist()\n",
    "    input_points = list(zip(ids_points,points))\n",
    "    pareto, _ = simple_cull(input_points)\n",
    "\n",
    "    return pareto"
   ]
  },
  {
   "cell_type": "code",
   "execution_count": 9,
   "metadata": {
    "collapsed": false,
    "jupyter": {
     "outputs_hidden": false
    },
    "pycharm": {
     "name": "#%%\n"
    }
   },
   "outputs": [],
   "source": [
    "def get_allstats(minutes):\n",
    "    # cargamos todos los datos estadisticos relativos a las distintas caracteristicas de los jugadores\n",
    "    def_df_full = pd.read_csv(\"../data/defensive_2022.csv\")\n",
    "    pass_df_full = pd.read_csv(\"../data/passing_2022.csv\")\n",
    "    poss_df_full = pd.read_csv(\"../data/possession_2022.csv\")\n",
    "    shoot_df_full = pd.read_csv(\"../data/shooting_2022.csv\")\n",
    "    goalshoot_df_full = pd.read_csv(\"../data/goal_shot_creation_2022.csv\")\n",
    "    passingType_df_full = pd.read_csv(\"../data/passing_type_2022.csv\")\n",
    "\n",
    "    # se eliminan algunas variables comunes o que no interesen\n",
    "    def_df_full.drop([\"Rk\", \"Born\", \"Matches\", \"Pressure_%\", \"vsDriblers_Tkl%\", \"Tkl+Int\", \"test\"], axis=1,\n",
    "                     inplace=True)\n",
    "\n",
    "    pass_df_full.drop(\n",
    "        [\"Rk\", \"Player\", \"Squad\", \"Comp\", \"Born\", \"Matches\", \"Age\", \"Pos\", \"Nation\", \"90s\", \"Ttl_Pass_Cmpl%\",\n",
    "         \"Short_Pass_Cmpl%\", \"Medium_Pass_Cmp%\", \"Long_Pass_Cmp%\", \"A-xA\", \"test\"],\n",
    "        axis=1, inplace=True)\n",
    "\n",
    "    poss_df_full[\"Poss_Fail\"] = poss_df_full[\"Miss_Poss\"] + poss_df_full[\"Tackled\"]\n",
    "    poss_df_full.drop([\"Rk\", \"Player\", \"Squad\", \"Comp\", \"Born\", \"Matches\", \"Age\", \"Pos\", \"Nation\", \"90s\",\n",
    "                       \"Megs\", \"Dribbles_Succ%\", \"Tackled\", \"Miss_Poss\", \"Succ_RecPass%\", \"test\"\n",
    "                       ], axis=1, inplace=True)\n",
    "\n",
    "    shoot_df_full.drop([\"Rk\", \"Player\", \"Squad\", \"Comp\", \"Born\", \"Matches\", \"Age\", \"Pos\", \"Nation\", \"90s\",\n",
    "                        \"SoT%\", \"Sh/90\", \"SoT/90\", \"FK\", \"PK\", \"PKatt\", \"npxG\", \"G-xG\", \"np:G-xG\", \"test\"], axis=1,\n",
    "                       inplace=True)\n",
    "\n",
    "    goalshoot_df_full.drop([\"Rk\", \"Player\", \"Squad\", \"Comp\", \"Born\", \"Matches\", \"Age\", \"Pos\", \"Nation\", \"90s\",\n",
    "                            \"SCA90\", \"GCA90\", \"test\"], axis=1, inplace=True)\n",
    "\n",
    "    passingType_df_full.drop([\"Rk\", \"Player\", \"Squad\", \"Comp\", \"Born\", \"Matches\", \"Age\", \"Pos\", \"Nation\", \"90s\",\n",
    "                              \"Att\", \"Live\", \"Dead\", \"FK\", \"CK\", \"Cmp\", \"Off\", \"Out\", \"Int\", \"Blocks\", \"test\"], axis=1,\n",
    "                             inplace=True)\n",
    "\n",
    "    # realizamo un preprocesado a algunas columnas de interés\n",
    "    def_df_full['Pos'] = def_df_full['Pos'].str[0:2]\n",
    "    def_df_full['Nation'] = def_df_full['Nation'].str[0:2]\n",
    "    def_df_full[\"Player\"] = def_df_full[\"Player\"].str.split(\"\\\\\", n=1, expand=True)[0]\n",
    "\n",
    "    # juntamos todos los conjuntos de datos en uno mismo\n",
    "    allstats_df = pd.concat(\n",
    "        [def_df_full, pass_df_full, poss_df_full, shoot_df_full, goalshoot_df_full, passingType_df_full], axis=1)\n",
    "    # filtramos por aquellos jugadores que no sean porteros\n",
    "    allstats_df[\"MP\"] = allstats_df[\"90s\"] * 90\n",
    "    allstats_df.fillna(0, inplace=True)\n",
    "    allstats_df = allstats_df[(allstats_df['Pos'] != 'GK') & (allstats_df[\"MP\"] >= minutes)].reset_index()\n",
    "\n",
    "    allstats_df.drop([\"index\", \"MP\"], axis=1, inplace=True)\n",
    "    return allstats_df"
   ]
  },
  {
   "cell_type": "code",
   "execution_count": 10,
   "metadata": {
    "collapsed": false,
    "jupyter": {
     "outputs_hidden": false
    },
    "pycharm": {
     "name": "#%%\n"
    }
   },
   "outputs": [],
   "source": [
    "df_all_stats = get_allstats(600)"
   ]
  },
  {
   "cell_type": "code",
   "execution_count": 11,
   "metadata": {
    "collapsed": false,
    "jupyter": {
     "outputs_hidden": false
    },
    "pycharm": {
     "name": "#%%\n"
    }
   },
   "outputs": [
    {
     "data": {
      "text/html": [
       "<div>\n",
       "<style scoped>\n",
       "    .dataframe tbody tr th:only-of-type {\n",
       "        vertical-align: middle;\n",
       "    }\n",
       "\n",
       "    .dataframe tbody tr th {\n",
       "        vertical-align: top;\n",
       "    }\n",
       "\n",
       "    .dataframe thead th {\n",
       "        text-align: right;\n",
       "    }\n",
       "</style>\n",
       "<table border=\"1\" class=\"dataframe\">\n",
       "  <thead>\n",
       "    <tr style=\"text-align: right;\">\n",
       "      <th></th>\n",
       "      <th>Player</th>\n",
       "      <th>Nation</th>\n",
       "      <th>Pos</th>\n",
       "      <th>Squad</th>\n",
       "      <th>Comp</th>\n",
       "      <th>Age</th>\n",
       "      <th>90s</th>\n",
       "      <th>tackles_Tkl</th>\n",
       "      <th>tackles_TklW</th>\n",
       "      <th>tackles_Def 3rd</th>\n",
       "      <th>...</th>\n",
       "      <th>Str</th>\n",
       "      <th>Ground</th>\n",
       "      <th>Low</th>\n",
       "      <th>High</th>\n",
       "      <th>Left</th>\n",
       "      <th>Right</th>\n",
       "      <th>Head</th>\n",
       "      <th>TI</th>\n",
       "      <th>Other</th>\n",
       "      <th>Out.1</th>\n",
       "    </tr>\n",
       "  </thead>\n",
       "  <tbody>\n",
       "    <tr>\n",
       "      <th>0</th>\n",
       "      <td>Max Aarons</td>\n",
       "      <td>en</td>\n",
       "      <td>DF</td>\n",
       "      <td>Norwich City</td>\n",
       "      <td>eng Premier League</td>\n",
       "      <td>21.0</td>\n",
       "      <td>32.0</td>\n",
       "      <td>2.16</td>\n",
       "      <td>1.16</td>\n",
       "      <td>1.56</td>\n",
       "      <td>...</td>\n",
       "      <td>0.0</td>\n",
       "      <td>26.5</td>\n",
       "      <td>9.59</td>\n",
       "      <td>8.94</td>\n",
       "      <td>4.91</td>\n",
       "      <td>29.00</td>\n",
       "      <td>0.91</td>\n",
       "      <td>9.72</td>\n",
       "      <td>0.06</td>\n",
       "      <td>0.88</td>\n",
       "    </tr>\n",
       "    <tr>\n",
       "      <th>1</th>\n",
       "      <td>Yunis Abdelhamid</td>\n",
       "      <td>ma</td>\n",
       "      <td>DF</td>\n",
       "      <td>Reims</td>\n",
       "      <td>fr Ligue 1</td>\n",
       "      <td>33.0</td>\n",
       "      <td>33.1</td>\n",
       "      <td>1.87</td>\n",
       "      <td>1.39</td>\n",
       "      <td>1.24</td>\n",
       "      <td>...</td>\n",
       "      <td>0.0</td>\n",
       "      <td>35.3</td>\n",
       "      <td>3.78</td>\n",
       "      <td>7.95</td>\n",
       "      <td>31.70</td>\n",
       "      <td>12.10</td>\n",
       "      <td>1.48</td>\n",
       "      <td>0.42</td>\n",
       "      <td>0.12</td>\n",
       "      <td>0.97</td>\n",
       "    </tr>\n",
       "    <tr>\n",
       "      <th>2</th>\n",
       "      <td>Salis Abdul Samed</td>\n",
       "      <td>gh</td>\n",
       "      <td>MF</td>\n",
       "      <td>Clermont Foot</td>\n",
       "      <td>fr Ligue 1</td>\n",
       "      <td>21.0</td>\n",
       "      <td>27.4</td>\n",
       "      <td>2.01</td>\n",
       "      <td>1.24</td>\n",
       "      <td>0.91</td>\n",
       "      <td>...</td>\n",
       "      <td>0.0</td>\n",
       "      <td>52.6</td>\n",
       "      <td>4.71</td>\n",
       "      <td>3.72</td>\n",
       "      <td>4.82</td>\n",
       "      <td>53.10</td>\n",
       "      <td>1.90</td>\n",
       "      <td>0.15</td>\n",
       "      <td>0.29</td>\n",
       "      <td>0.58</td>\n",
       "    </tr>\n",
       "    <tr>\n",
       "      <th>3</th>\n",
       "      <td>Laurent Abergel</td>\n",
       "      <td>fr</td>\n",
       "      <td>MF</td>\n",
       "      <td>Lorient</td>\n",
       "      <td>fr Ligue 1</td>\n",
       "      <td>28.0</td>\n",
       "      <td>32.8</td>\n",
       "      <td>3.57</td>\n",
       "      <td>2.23</td>\n",
       "      <td>1.49</td>\n",
       "      <td>...</td>\n",
       "      <td>0.0</td>\n",
       "      <td>37.6</td>\n",
       "      <td>5.64</td>\n",
       "      <td>6.65</td>\n",
       "      <td>4.48</td>\n",
       "      <td>43.90</td>\n",
       "      <td>0.73</td>\n",
       "      <td>0.15</td>\n",
       "      <td>0.15</td>\n",
       "      <td>0.55</td>\n",
       "    </tr>\n",
       "    <tr>\n",
       "      <th>4</th>\n",
       "      <td>Dickson Abiama</td>\n",
       "      <td>ng</td>\n",
       "      <td>FW</td>\n",
       "      <td>Greuther Fürth</td>\n",
       "      <td>de Bundesliga</td>\n",
       "      <td>22.0</td>\n",
       "      <td>8.1</td>\n",
       "      <td>1.73</td>\n",
       "      <td>0.86</td>\n",
       "      <td>0.37</td>\n",
       "      <td>...</td>\n",
       "      <td>0.0</td>\n",
       "      <td>10.7</td>\n",
       "      <td>3.95</td>\n",
       "      <td>2.47</td>\n",
       "      <td>3.33</td>\n",
       "      <td>9.38</td>\n",
       "      <td>2.35</td>\n",
       "      <td>0.00</td>\n",
       "      <td>0.37</td>\n",
       "      <td>0.62</td>\n",
       "    </tr>\n",
       "  </tbody>\n",
       "</table>\n",
       "<p>5 rows × 101 columns</p>\n",
       "</div>"
      ],
      "text/plain": [
       "              Player Nation Pos           Squad                Comp   Age  \\\n",
       "0         Max Aarons     en  DF    Norwich City  eng Premier League  21.0   \n",
       "1   Yunis Abdelhamid     ma  DF           Reims          fr Ligue 1  33.0   \n",
       "2  Salis Abdul Samed     gh  MF   Clermont Foot          fr Ligue 1  21.0   \n",
       "3    Laurent Abergel     fr  MF         Lorient          fr Ligue 1  28.0   \n",
       "4     Dickson Abiama     ng  FW  Greuther Fürth       de Bundesliga  22.0   \n",
       "\n",
       "    90s  tackles_Tkl  tackles_TklW  tackles_Def 3rd  ...  Str  Ground   Low  \\\n",
       "0  32.0         2.16          1.16             1.56  ...  0.0    26.5  9.59   \n",
       "1  33.1         1.87          1.39             1.24  ...  0.0    35.3  3.78   \n",
       "2  27.4         2.01          1.24             0.91  ...  0.0    52.6  4.71   \n",
       "3  32.8         3.57          2.23             1.49  ...  0.0    37.6  5.64   \n",
       "4   8.1         1.73          0.86             0.37  ...  0.0    10.7  3.95   \n",
       "\n",
       "   High   Left  Right  Head    TI  Other  Out.1  \n",
       "0  8.94   4.91  29.00  0.91  9.72   0.06   0.88  \n",
       "1  7.95  31.70  12.10  1.48  0.42   0.12   0.97  \n",
       "2  3.72   4.82  53.10  1.90  0.15   0.29   0.58  \n",
       "3  6.65   4.48  43.90  0.73  0.15   0.15   0.55  \n",
       "4  2.47   3.33   9.38  2.35  0.00   0.37   0.62  \n",
       "\n",
       "[5 rows x 101 columns]"
      ]
     },
     "execution_count": 11,
     "metadata": {},
     "output_type": "execute_result"
    }
   ],
   "source": [
    "df_all_stats.head()"
   ]
  },
  {
   "cell_type": "code",
   "execution_count": 12,
   "metadata": {
    "collapsed": false,
    "jupyter": {
     "outputs_hidden": false
    },
    "pycharm": {
     "name": "#%%\n"
    }
   },
   "outputs": [
    {
     "name": "stdout",
     "output_type": "stream",
     "text": [
      "Gelson Martins, João Félix, Rafael Leão, Daniel Podence, Cristiano Ronaldo, Gonçalo Guedes, André Silva, Francisco Trincão, Diogo Jota, Tiago Tomás, "
     ]
    }
   ],
   "source": [
    "pareto = pareto_position_country_season(df_all_stats,'FW','pt',['tackles_Def 3rd','Pressure_Def 3rd', 'Pressure_Att 3rd', 'Blocks', 'Int',\n",
    "                                                                'Ttl_Pass_Compl', 'Ttl_Pass_Att', 'Ttl_Dist_Pass', 'Prgsv_Dist',\n",
    "                                                                'Medium_Pass_Cmp', 'Medium_Pass_Att', 'Long_Pass_Cmp', 'Long_Pass_Att',\n",
    "                                                                'Touches_Ttl', 'Touches_Def3rd', 'Touches_Mid3rd', 'Touches_AttPen',\n",
    "                                                                'Touches_Live', 'CPA', 'Prog_Pass', 'Poss_Fail', 'Gls', 'Sh', 'SoT', 'xG'])\n",
    "for player in pareto:\n",
    "    print(player[0][0],end=\", \")"
   ]
  },
  {
   "cell_type": "code",
   "execution_count": 13,
   "metadata": {
    "collapsed": false,
    "jupyter": {
     "outputs_hidden": false
    },
    "pycharm": {
     "name": "#%%\n"
    }
   },
   "outputs": [
    {
     "name": "stdout",
     "output_type": "stream",
     "text": [
      "Mathias Pereira Lage, "
     ]
    }
   ],
   "source": [
    "pareto = pareto_position_country_season(df_all_stats,'DF','pt',['Pressure_Press', 'Pressure_Mid 3rd'])\n",
    "for player in pareto:\n",
    "    print(player[0][0],end=\", \")"
   ]
  },
  {
   "cell_type": "code",
   "execution_count": null,
   "metadata": {
    "collapsed": false,
    "jupyter": {
     "outputs_hidden": false
    },
    "pycharm": {
     "name": "#%%\n"
    }
   },
   "outputs": [],
   "source": []
  },
  {
   "cell_type": "code",
   "execution_count": 15,
   "metadata": {
    "collapsed": false,
    "jupyter": {
     "outputs_hidden": false
    },
    "pycharm": {
     "name": "#%%\n"
    }
   },
   "outputs": [],
   "source": [
    "from sklearn.preprocessing import MinMaxScaler, StandardScaler"
   ]
  },
  {
   "cell_type": "code",
   "execution_count": 16,
   "metadata": {
    "collapsed": false,
    "jupyter": {
     "outputs_hidden": false
    },
    "pycharm": {
     "name": "#%%\n"
    }
   },
   "outputs": [
    {
     "data": {
      "text/html": [
       "<div>\n",
       "<style scoped>\n",
       "    .dataframe tbody tr th:only-of-type {\n",
       "        vertical-align: middle;\n",
       "    }\n",
       "\n",
       "    .dataframe tbody tr th {\n",
       "        vertical-align: top;\n",
       "    }\n",
       "\n",
       "    .dataframe thead th {\n",
       "        text-align: right;\n",
       "    }\n",
       "</style>\n",
       "<table border=\"1\" class=\"dataframe\">\n",
       "  <thead>\n",
       "    <tr style=\"text-align: right;\">\n",
       "      <th></th>\n",
       "      <th>Player</th>\n",
       "      <th>Nation</th>\n",
       "      <th>Pos</th>\n",
       "      <th>Squad</th>\n",
       "      <th>Comp</th>\n",
       "      <th>Age</th>\n",
       "      <th>90s</th>\n",
       "      <th>tackles_Tkl</th>\n",
       "      <th>tackles_TklW</th>\n",
       "      <th>tackles_Def 3rd</th>\n",
       "      <th>...</th>\n",
       "      <th>Str</th>\n",
       "      <th>Ground</th>\n",
       "      <th>Low</th>\n",
       "      <th>High</th>\n",
       "      <th>Left</th>\n",
       "      <th>Right</th>\n",
       "      <th>Head</th>\n",
       "      <th>TI</th>\n",
       "      <th>Other</th>\n",
       "      <th>Out.1</th>\n",
       "    </tr>\n",
       "  </thead>\n",
       "  <tbody>\n",
       "    <tr>\n",
       "      <th>0</th>\n",
       "      <td>Max Aarons</td>\n",
       "      <td>en</td>\n",
       "      <td>DF</td>\n",
       "      <td>Norwich City</td>\n",
       "      <td>eng Premier League</td>\n",
       "      <td>21.0</td>\n",
       "      <td>32.0</td>\n",
       "      <td>0.449747</td>\n",
       "      <td>0.114862</td>\n",
       "      <td>1.317318</td>\n",
       "      <td>...</td>\n",
       "      <td>-0.317109</td>\n",
       "      <td>-0.319769</td>\n",
       "      <td>1.278281</td>\n",
       "      <td>0.247101</td>\n",
       "      <td>-0.567037</td>\n",
       "      <td>0.161628</td>\n",
       "      <td>-1.068953</td>\n",
       "      <td>2.323758</td>\n",
       "      <td>-0.844927</td>\n",
       "      <td>0.405314</td>\n",
       "    </tr>\n",
       "    <tr>\n",
       "      <th>1</th>\n",
       "      <td>Yunis Abdelhamid</td>\n",
       "      <td>ma</td>\n",
       "      <td>DF</td>\n",
       "      <td>Reims</td>\n",
       "      <td>fr Ligue 1</td>\n",
       "      <td>33.0</td>\n",
       "      <td>33.1</td>\n",
       "      <td>0.090539</td>\n",
       "      <td>0.551489</td>\n",
       "      <td>0.713288</td>\n",
       "      <td>...</td>\n",
       "      <td>-0.317109</td>\n",
       "      <td>0.351060</td>\n",
       "      <td>-0.805283</td>\n",
       "      <td>-0.020277</td>\n",
       "      <td>1.269846</td>\n",
       "      <td>-0.829781</td>\n",
       "      <td>-0.430892</td>\n",
       "      <td>-0.493000</td>\n",
       "      <td>-0.590589</td>\n",
       "      <td>0.670640</td>\n",
       "    </tr>\n",
       "    <tr>\n",
       "      <th>2</th>\n",
       "      <td>Salis Abdul Samed</td>\n",
       "      <td>gh</td>\n",
       "      <td>MF</td>\n",
       "      <td>Clermont Foot</td>\n",
       "      <td>fr Ligue 1</td>\n",
       "      <td>21.0</td>\n",
       "      <td>27.4</td>\n",
       "      <td>0.263950</td>\n",
       "      <td>0.266732</td>\n",
       "      <td>0.090382</td>\n",
       "      <td>...</td>\n",
       "      <td>-0.317109</td>\n",
       "      <td>1.669849</td>\n",
       "      <td>-0.471770</td>\n",
       "      <td>-1.162708</td>\n",
       "      <td>-0.573208</td>\n",
       "      <td>1.575412</td>\n",
       "      <td>0.039259</td>\n",
       "      <td>-0.574777</td>\n",
       "      <td>0.130033</td>\n",
       "      <td>-0.479108</td>\n",
       "    </tr>\n",
       "    <tr>\n",
       "      <th>3</th>\n",
       "      <td>Laurent Abergel</td>\n",
       "      <td>fr</td>\n",
       "      <td>MF</td>\n",
       "      <td>Lorient</td>\n",
       "      <td>fr Ligue 1</td>\n",
       "      <td>28.0</td>\n",
       "      <td>32.8</td>\n",
       "      <td>2.196244</td>\n",
       "      <td>2.146126</td>\n",
       "      <td>1.185186</td>\n",
       "      <td>...</td>\n",
       "      <td>-0.317109</td>\n",
       "      <td>0.526390</td>\n",
       "      <td>-0.138256</td>\n",
       "      <td>-0.371378</td>\n",
       "      <td>-0.596521</td>\n",
       "      <td>1.035710</td>\n",
       "      <td>-1.270446</td>\n",
       "      <td>-0.574777</td>\n",
       "      <td>-0.463421</td>\n",
       "      <td>-0.567550</td>\n",
       "    </tr>\n",
       "    <tr>\n",
       "      <th>4</th>\n",
       "      <td>Dickson Abiama</td>\n",
       "      <td>ng</td>\n",
       "      <td>FW</td>\n",
       "      <td>Greuther Fürth</td>\n",
       "      <td>de Bundesliga</td>\n",
       "      <td>22.0</td>\n",
       "      <td>8.1</td>\n",
       "      <td>-0.082872</td>\n",
       "      <td>-0.454651</td>\n",
       "      <td>-0.928919</td>\n",
       "      <td>...</td>\n",
       "      <td>-0.317109</td>\n",
       "      <td>-1.524212</td>\n",
       "      <td>-0.744319</td>\n",
       "      <td>-1.500306</td>\n",
       "      <td>-0.675372</td>\n",
       "      <td>-0.989345</td>\n",
       "      <td>0.542991</td>\n",
       "      <td>-0.620209</td>\n",
       "      <td>0.469150</td>\n",
       "      <td>-0.361185</td>\n",
       "    </tr>\n",
       "  </tbody>\n",
       "</table>\n",
       "<p>5 rows × 101 columns</p>\n",
       "</div>"
      ],
      "text/plain": [
       "              Player Nation Pos           Squad                Comp   Age  \\\n",
       "0         Max Aarons     en  DF    Norwich City  eng Premier League  21.0   \n",
       "1   Yunis Abdelhamid     ma  DF           Reims          fr Ligue 1  33.0   \n",
       "2  Salis Abdul Samed     gh  MF   Clermont Foot          fr Ligue 1  21.0   \n",
       "3    Laurent Abergel     fr  MF         Lorient          fr Ligue 1  28.0   \n",
       "4     Dickson Abiama     ng  FW  Greuther Fürth       de Bundesliga  22.0   \n",
       "\n",
       "    90s  tackles_Tkl  tackles_TklW  tackles_Def 3rd  ...       Str    Ground  \\\n",
       "0  32.0     0.449747      0.114862         1.317318  ... -0.317109 -0.319769   \n",
       "1  33.1     0.090539      0.551489         0.713288  ... -0.317109  0.351060   \n",
       "2  27.4     0.263950      0.266732         0.090382  ... -0.317109  1.669849   \n",
       "3  32.8     2.196244      2.146126         1.185186  ... -0.317109  0.526390   \n",
       "4   8.1    -0.082872     -0.454651        -0.928919  ... -0.317109 -1.524212   \n",
       "\n",
       "        Low      High      Left     Right      Head        TI     Other  \\\n",
       "0  1.278281  0.247101 -0.567037  0.161628 -1.068953  2.323758 -0.844927   \n",
       "1 -0.805283 -0.020277  1.269846 -0.829781 -0.430892 -0.493000 -0.590589   \n",
       "2 -0.471770 -1.162708 -0.573208  1.575412  0.039259 -0.574777  0.130033   \n",
       "3 -0.138256 -0.371378 -0.596521  1.035710 -1.270446 -0.574777 -0.463421   \n",
       "4 -0.744319 -1.500306 -0.675372 -0.989345  0.542991 -0.620209  0.469150   \n",
       "\n",
       "      Out.1  \n",
       "0  0.405314  \n",
       "1  0.670640  \n",
       "2 -0.479108  \n",
       "3 -0.567550  \n",
       "4 -0.361185  \n",
       "\n",
       "[5 rows x 101 columns]"
      ]
     },
     "execution_count": 16,
     "metadata": {},
     "output_type": "execute_result"
    }
   ],
   "source": [
    "cols = df_all_stats.iloc[:,7:].columns.tolist()\n",
    "scaler = StandardScaler()\n",
    "\n",
    "df_all_stats[cols] = scaler.fit_transform(df_all_stats[cols])\n",
    "df_all_stats.head()"
   ]
  },
  {
   "cell_type": "code",
   "execution_count": 41,
   "metadata": {
    "collapsed": false,
    "jupyter": {
     "outputs_hidden": false
    },
    "pycharm": {
     "name": "#%%\n"
    }
   },
   "outputs": [
    {
     "name": "stdout",
     "output_type": "stream",
     "text": [
      "Diogo Dalot, Cédric Soares, Mathias Pereira Lage, Nuno Mendes, Tiago Djaló, João Cancelo, Rúben Dias, Raphaël Guerreiro, Ricardo Pereira, Rúben Vezo, José Fonte, Thierry Correia, Mário Rui, Guilherme Ramos, Nuno Tavares, Domingos Duarte, "
     ]
    }
   ],
   "source": [
    "pareto = pareto_position_country_season(df_all_stats,'DF','pt',['Pressure_Press', 'Pressure_Mid 3rd', 'Pressure_Att 3rd', 'Blocks_Sh', 'Clr',\n",
    "                                                                'Prgsv_Dist', 'Medium_Pass_Cmp'])\n",
    "for player in pareto:\n",
    "    print(player[0][0],end=\", \")"
   ]
  },
  {
   "cell_type": "code",
   "execution_count": null,
   "metadata": {
    "collapsed": false,
    "jupyter": {
     "outputs_hidden": false
    },
    "pycharm": {
     "name": "#%%\n"
    }
   },
   "outputs": [],
   "source": []
  },
  {
   "cell_type": "code",
   "execution_count": 17,
   "metadata": {
    "collapsed": false,
    "jupyter": {
     "outputs_hidden": false
    },
    "pycharm": {
     "name": "#%%\n"
    }
   },
   "outputs": [
    {
     "name": "stderr",
     "output_type": "stream",
     "text": [
      "C:\\Users\\Ricardo\\anaconda3\\envs\\deepL\\lib\\site-packages\\matplotlib\\collections.py:1039: UserWarning: Collection without array used. Make sure to specify the values to be colormapped via the `c` argument.\n",
      "  warnings.warn(\"Collection without array used. Make sure to \"\n"
     ]
    },
    {
     "data": {
      "image/png": "[encoded data removed]",
      "text/plain": [
       "<Figure size 720x720 with 1 Axes>"
      ]
     },
     "metadata": {
      "needs_background": "light"
     },
     "output_type": "display_data"
    }
   ],
   "source": [
    "from sklearn.decomposition import PCA\n",
    "import matplotlib.pyplot as plt\n",
    "import matplotlib.style as style\n",
    "import numpy as np\n",
    "import seaborn as sns\n",
    "\n",
    "data = df_all_stats[cols]\n",
    "\n",
    "pca = PCA(n_components=2)\n",
    "pca.fit(data)\n",
    "data_pca = pca.transform(data)\n",
    "\n",
    "\n",
    "plt.figure(figsize = (10,10))\n",
    "scatter = plt.scatter(data_pca[:,0], data_pca[:,1])\n",
    "plt.legend(*scatter.legend_elements())\n",
    "plt.show()"
   ]
  },
  {
   "cell_type": "code",
   "execution_count": 18,
   "metadata": {
    "collapsed": false,
    "jupyter": {
     "outputs_hidden": false
    },
    "pycharm": {
     "name": "#%%\n"
    }
   },
   "outputs": [
    {
     "data": {
      "text/html": [
       "<div>\n",
       "<style scoped>\n",
       "    .dataframe tbody tr th:only-of-type {\n",
       "        vertical-align: middle;\n",
       "    }\n",
       "\n",
       "    .dataframe tbody tr th {\n",
       "        vertical-align: top;\n",
       "    }\n",
       "\n",
       "    .dataframe thead th {\n",
       "        text-align: right;\n",
       "    }\n",
       "</style>\n",
       "<table border=\"1\" class=\"dataframe\">\n",
       "  <thead>\n",
       "    <tr style=\"text-align: right;\">\n",
       "      <th></th>\n",
       "      <th>Player</th>\n",
       "      <th>Nation</th>\n",
       "      <th>Pos</th>\n",
       "      <th>Squad</th>\n",
       "      <th>Comp</th>\n",
       "      <th>Age</th>\n",
       "      <th>90s</th>\n",
       "      <th>tackles_Tkl</th>\n",
       "      <th>tackles_TklW</th>\n",
       "      <th>tackles_Def 3rd</th>\n",
       "      <th>...</th>\n",
       "      <th>Low</th>\n",
       "      <th>High</th>\n",
       "      <th>Left</th>\n",
       "      <th>Right</th>\n",
       "      <th>Head</th>\n",
       "      <th>TI</th>\n",
       "      <th>Other</th>\n",
       "      <th>Out.1</th>\n",
       "      <th>x</th>\n",
       "      <th>y</th>\n",
       "    </tr>\n",
       "  </thead>\n",
       "  <tbody>\n",
       "    <tr>\n",
       "      <th>0</th>\n",
       "      <td>Max Aarons</td>\n",
       "      <td>en</td>\n",
       "      <td>DF</td>\n",
       "      <td>Norwich City</td>\n",
       "      <td>eng Premier League</td>\n",
       "      <td>21.0</td>\n",
       "      <td>32.0</td>\n",
       "      <td>0.449747</td>\n",
       "      <td>0.114862</td>\n",
       "      <td>1.317318</td>\n",
       "      <td>...</td>\n",
       "      <td>1.278281</td>\n",
       "      <td>0.247101</td>\n",
       "      <td>-0.567037</td>\n",
       "      <td>0.161628</td>\n",
       "      <td>-1.068953</td>\n",
       "      <td>2.323758</td>\n",
       "      <td>-0.844927</td>\n",
       "      <td>0.405314</td>\n",
       "      <td>-2.454308</td>\n",
       "      <td>-0.744601</td>\n",
       "    </tr>\n",
       "    <tr>\n",
       "      <th>1</th>\n",
       "      <td>Yunis Abdelhamid</td>\n",
       "      <td>ma</td>\n",
       "      <td>DF</td>\n",
       "      <td>Reims</td>\n",
       "      <td>fr Ligue 1</td>\n",
       "      <td>33.0</td>\n",
       "      <td>33.1</td>\n",
       "      <td>0.090539</td>\n",
       "      <td>0.551489</td>\n",
       "      <td>0.713288</td>\n",
       "      <td>...</td>\n",
       "      <td>-0.805283</td>\n",
       "      <td>-0.020277</td>\n",
       "      <td>1.269846</td>\n",
       "      <td>-0.829781</td>\n",
       "      <td>-0.430892</td>\n",
       "      <td>-0.493000</td>\n",
       "      <td>-0.590589</td>\n",
       "      <td>0.670640</td>\n",
       "      <td>-4.836904</td>\n",
       "      <td>-3.337828</td>\n",
       "    </tr>\n",
       "    <tr>\n",
       "      <th>2</th>\n",
       "      <td>Salis Abdul Samed</td>\n",
       "      <td>gh</td>\n",
       "      <td>MF</td>\n",
       "      <td>Clermont Foot</td>\n",
       "      <td>fr Ligue 1</td>\n",
       "      <td>21.0</td>\n",
       "      <td>27.4</td>\n",
       "      <td>0.263950</td>\n",
       "      <td>0.266732</td>\n",
       "      <td>0.090382</td>\n",
       "      <td>...</td>\n",
       "      <td>-0.471770</td>\n",
       "      <td>-1.162708</td>\n",
       "      <td>-0.573208</td>\n",
       "      <td>1.575412</td>\n",
       "      <td>0.039259</td>\n",
       "      <td>-0.574777</td>\n",
       "      <td>0.130033</td>\n",
       "      <td>-0.479108</td>\n",
       "      <td>-3.368659</td>\n",
       "      <td>2.139516</td>\n",
       "    </tr>\n",
       "    <tr>\n",
       "      <th>3</th>\n",
       "      <td>Laurent Abergel</td>\n",
       "      <td>fr</td>\n",
       "      <td>MF</td>\n",
       "      <td>Lorient</td>\n",
       "      <td>fr Ligue 1</td>\n",
       "      <td>28.0</td>\n",
       "      <td>32.8</td>\n",
       "      <td>2.196244</td>\n",
       "      <td>2.146126</td>\n",
       "      <td>1.185186</td>\n",
       "      <td>...</td>\n",
       "      <td>-0.138256</td>\n",
       "      <td>-0.371378</td>\n",
       "      <td>-0.596521</td>\n",
       "      <td>1.035710</td>\n",
       "      <td>-1.270446</td>\n",
       "      <td>-0.574777</td>\n",
       "      <td>-0.463421</td>\n",
       "      <td>-0.567550</td>\n",
       "      <td>-2.476723</td>\n",
       "      <td>3.318348</td>\n",
       "    </tr>\n",
       "    <tr>\n",
       "      <th>4</th>\n",
       "      <td>Dickson Abiama</td>\n",
       "      <td>ng</td>\n",
       "      <td>FW</td>\n",
       "      <td>Greuther Fürth</td>\n",
       "      <td>de Bundesliga</td>\n",
       "      <td>22.0</td>\n",
       "      <td>8.1</td>\n",
       "      <td>-0.082872</td>\n",
       "      <td>-0.454651</td>\n",
       "      <td>-0.928919</td>\n",
       "      <td>...</td>\n",
       "      <td>-0.744319</td>\n",
       "      <td>-1.500306</td>\n",
       "      <td>-0.675372</td>\n",
       "      <td>-0.989345</td>\n",
       "      <td>0.542991</td>\n",
       "      <td>-0.620209</td>\n",
       "      <td>0.469150</td>\n",
       "      <td>-0.361185</td>\n",
       "      <td>7.166982</td>\n",
       "      <td>-3.885040</td>\n",
       "    </tr>\n",
       "    <tr>\n",
       "      <th>...</th>\n",
       "      <td>...</td>\n",
       "      <td>...</td>\n",
       "      <td>...</td>\n",
       "      <td>...</td>\n",
       "      <td>...</td>\n",
       "      <td>...</td>\n",
       "      <td>...</td>\n",
       "      <td>...</td>\n",
       "      <td>...</td>\n",
       "      <td>...</td>\n",
       "      <td>...</td>\n",
       "      <td>...</td>\n",
       "      <td>...</td>\n",
       "      <td>...</td>\n",
       "      <td>...</td>\n",
       "      <td>...</td>\n",
       "      <td>...</td>\n",
       "      <td>...</td>\n",
       "      <td>...</td>\n",
       "      <td>...</td>\n",
       "      <td>...</td>\n",
       "    </tr>\n",
       "    <tr>\n",
       "      <th>1756</th>\n",
       "      <td>Martín Zubimendi</td>\n",
       "      <td>es</td>\n",
       "      <td>MF</td>\n",
       "      <td>Real Sociedad</td>\n",
       "      <td>es La Liga</td>\n",
       "      <td>22.0</td>\n",
       "      <td>28.8</td>\n",
       "      <td>0.400201</td>\n",
       "      <td>0.019943</td>\n",
       "      <td>0.147009</td>\n",
       "      <td>...</td>\n",
       "      <td>-0.367771</td>\n",
       "      <td>-0.114804</td>\n",
       "      <td>-0.149470</td>\n",
       "      <td>0.542939</td>\n",
       "      <td>-0.061488</td>\n",
       "      <td>-0.620209</td>\n",
       "      <td>0.087644</td>\n",
       "      <td>0.257910</td>\n",
       "      <td>-3.249607</td>\n",
       "      <td>-0.821645</td>\n",
       "    </tr>\n",
       "    <tr>\n",
       "      <th>1757</th>\n",
       "      <td>Szymon Żurkowski</td>\n",
       "      <td>pl</td>\n",
       "      <td>MF</td>\n",
       "      <td>Empoli</td>\n",
       "      <td>it Serie A</td>\n",
       "      <td>23.0</td>\n",
       "      <td>25.6</td>\n",
       "      <td>1.205324</td>\n",
       "      <td>1.538645</td>\n",
       "      <td>0.807668</td>\n",
       "      <td>...</td>\n",
       "      <td>-0.816042</td>\n",
       "      <td>-1.143802</td>\n",
       "      <td>-0.493672</td>\n",
       "      <td>0.108831</td>\n",
       "      <td>-1.304028</td>\n",
       "      <td>-0.559633</td>\n",
       "      <td>-0.421031</td>\n",
       "      <td>-0.331704</td>\n",
       "      <td>1.300566</td>\n",
       "      <td>0.359570</td>\n",
       "    </tr>\n",
       "    <tr>\n",
       "      <th>1758</th>\n",
       "      <td>Martin Ødegaard</td>\n",
       "      <td>no</td>\n",
       "      <td>MF</td>\n",
       "      <td>Arsenal</td>\n",
       "      <td>eng Premier League</td>\n",
       "      <td>22.0</td>\n",
       "      <td>30.9</td>\n",
       "      <td>-0.504013</td>\n",
       "      <td>-0.549570</td>\n",
       "      <td>-1.325314</td>\n",
       "      <td>...</td>\n",
       "      <td>-0.163359</td>\n",
       "      <td>-0.576638</td>\n",
       "      <td>2.202344</td>\n",
       "      <td>-1.294980</td>\n",
       "      <td>-0.856266</td>\n",
       "      <td>-0.511173</td>\n",
       "      <td>0.681097</td>\n",
       "      <td>-0.744434</td>\n",
       "      <td>3.551227</td>\n",
       "      <td>5.388898</td>\n",
       "    </tr>\n",
       "    <tr>\n",
       "      <th>1759</th>\n",
       "      <td>Milan Đurić</td>\n",
       "      <td>ba</td>\n",
       "      <td>FW</td>\n",
       "      <td>Salernitana</td>\n",
       "      <td>it Serie A</td>\n",
       "      <td>31.0</td>\n",
       "      <td>24.1</td>\n",
       "      <td>-1.916074</td>\n",
       "      <td>-1.764532</td>\n",
       "      <td>-1.476322</td>\n",
       "      <td>...</td>\n",
       "      <td>1.532899</td>\n",
       "      <td>0.174180</td>\n",
       "      <td>-0.792620</td>\n",
       "      <td>-1.013983</td>\n",
       "      <td>3.576580</td>\n",
       "      <td>-0.595978</td>\n",
       "      <td>7.675375</td>\n",
       "      <td>-0.980280</td>\n",
       "      <td>6.647882</td>\n",
       "      <td>-4.806590</td>\n",
       "    </tr>\n",
       "    <tr>\n",
       "      <th>1760</th>\n",
       "      <td>Filip Đuričić</td>\n",
       "      <td>rs</td>\n",
       "      <td>MF</td>\n",
       "      <td>Sassuolo</td>\n",
       "      <td>it Serie A</td>\n",
       "      <td>29.0</td>\n",
       "      <td>7.5</td>\n",
       "      <td>-0.243897</td>\n",
       "      <td>-0.321765</td>\n",
       "      <td>0.637784</td>\n",
       "      <td>...</td>\n",
       "      <td>-1.110108</td>\n",
       "      <td>-1.446290</td>\n",
       "      <td>-0.757651</td>\n",
       "      <td>0.009104</td>\n",
       "      <td>-1.337610</td>\n",
       "      <td>-0.459684</td>\n",
       "      <td>-1.099264</td>\n",
       "      <td>-1.805740</td>\n",
       "      <td>5.621074</td>\n",
       "      <td>0.398005</td>\n",
       "    </tr>\n",
       "  </tbody>\n",
       "</table>\n",
       "<p>1761 rows × 103 columns</p>\n",
       "</div>"
      ],
      "text/plain": [
       "                 Player Nation Pos           Squad                Comp   Age  \\\n",
       "0            Max Aarons     en  DF    Norwich City  eng Premier League  21.0   \n",
       "1      Yunis Abdelhamid     ma  DF           Reims          fr Ligue 1  33.0   \n",
       "2     Salis Abdul Samed     gh  MF   Clermont Foot          fr Ligue 1  21.0   \n",
       "3       Laurent Abergel     fr  MF         Lorient          fr Ligue 1  28.0   \n",
       "4        Dickson Abiama     ng  FW  Greuther Fürth       de Bundesliga  22.0   \n",
       "...                 ...    ...  ..             ...                 ...   ...   \n",
       "1756   Martín Zubimendi     es  MF   Real Sociedad          es La Liga  22.0   \n",
       "1757   Szymon Żurkowski     pl  MF          Empoli          it Serie A  23.0   \n",
       "1758    Martin Ødegaard     no  MF         Arsenal  eng Premier League  22.0   \n",
       "1759        Milan Đurić     ba  FW     Salernitana          it Serie A  31.0   \n",
       "1760      Filip Đuričić     rs  MF        Sassuolo          it Serie A  29.0   \n",
       "\n",
       "       90s  tackles_Tkl  tackles_TklW  tackles_Def 3rd  ...       Low  \\\n",
       "0     32.0     0.449747      0.114862         1.317318  ...  1.278281   \n",
       "1     33.1     0.090539      0.551489         0.713288  ... -0.805283   \n",
       "2     27.4     0.263950      0.266732         0.090382  ... -0.471770   \n",
       "3     32.8     2.196244      2.146126         1.185186  ... -0.138256   \n",
       "4      8.1    -0.082872     -0.454651        -0.928919  ... -0.744319   \n",
       "...    ...          ...           ...              ...  ...       ...   \n",
       "1756  28.8     0.400201      0.019943         0.147009  ... -0.367771   \n",
       "1757  25.6     1.205324      1.538645         0.807668  ... -0.816042   \n",
       "1758  30.9    -0.504013     -0.549570        -1.325314  ... -0.163359   \n",
       "1759  24.1    -1.916074     -1.764532        -1.476322  ...  1.532899   \n",
       "1760   7.5    -0.243897     -0.321765         0.637784  ... -1.110108   \n",
       "\n",
       "          High      Left     Right      Head        TI     Other     Out.1  \\\n",
       "0     0.247101 -0.567037  0.161628 -1.068953  2.323758 -0.844927  0.405314   \n",
       "1    -0.020277  1.269846 -0.829781 -0.430892 -0.493000 -0.590589  0.670640   \n",
       "2    -1.162708 -0.573208  1.575412  0.039259 -0.574777  0.130033 -0.479108   \n",
       "3    -0.371378 -0.596521  1.035710 -1.270446 -0.574777 -0.463421 -0.567550   \n",
       "4    -1.500306 -0.675372 -0.989345  0.542991 -0.620209  0.469150 -0.361185   \n",
       "...        ...       ...       ...       ...       ...       ...       ...   \n",
       "1756 -0.114804 -0.149470  0.542939 -0.061488 -0.620209  0.087644  0.257910   \n",
       "1757 -1.143802 -0.493672  0.108831 -1.304028 -0.559633 -0.421031 -0.331704   \n",
       "1758 -0.576638  2.202344 -1.294980 -0.856266 -0.511173  0.681097 -0.744434   \n",
       "1759  0.174180 -0.792620 -1.013983  3.576580 -0.595978  7.675375 -0.980280   \n",
       "1760 -1.446290 -0.757651  0.009104 -1.337610 -0.459684 -1.099264 -1.805740   \n",
       "\n",
       "             x         y  \n",
       "0    -2.454308 -0.744601  \n",
       "1    -4.836904 -3.337828  \n",
       "2    -3.368659  2.139516  \n",
       "3    -2.476723  3.318348  \n",
       "4     7.166982 -3.885040  \n",
       "...        ...       ...  \n",
       "1756 -3.249607 -0.821645  \n",
       "1757  1.300566  0.359570  \n",
       "1758  3.551227  5.388898  \n",
       "1759  6.647882 -4.806590  \n",
       "1760  5.621074  0.398005  \n",
       "\n",
       "[1761 rows x 103 columns]"
      ]
     },
     "execution_count": 18,
     "metadata": {},
     "output_type": "execute_result"
    }
   ],
   "source": [
    "df_all_stats[\"x\"] = data_pca[:,0]\n",
    "df_all_stats[\"y\"] = data_pca[:,1]\n",
    "#df_all_stats[\"2\"] = data_pca[:,2]\n",
    "df_all_stats\n"
   ]
  },
  {
   "cell_type": "code",
   "execution_count": 20,
   "metadata": {
    "collapsed": false,
    "jupyter": {
     "outputs_hidden": false
    },
    "pycharm": {
     "name": "#%%\n"
    }
   },
   "outputs": [
    {
     "data": {
      "text/html": [
       "<div>\n",
       "<style scoped>\n",
       "    .dataframe tbody tr th:only-of-type {\n",
       "        vertical-align: middle;\n",
       "    }\n",
       "\n",
       "    .dataframe tbody tr th {\n",
       "        vertical-align: top;\n",
       "    }\n",
       "\n",
       "    .dataframe thead th {\n",
       "        text-align: right;\n",
       "    }\n",
       "</style>\n",
       "<table border=\"1\" class=\"dataframe\">\n",
       "  <thead>\n",
       "    <tr style=\"text-align: right;\">\n",
       "      <th></th>\n",
       "      <th>Player</th>\n",
       "      <th>Nation</th>\n",
       "      <th>Pos</th>\n",
       "      <th>Squad</th>\n",
       "      <th>Comp</th>\n",
       "      <th>Age</th>\n",
       "      <th>90s</th>\n",
       "      <th>tackles_Tkl</th>\n",
       "      <th>tackles_TklW</th>\n",
       "      <th>tackles_Def 3rd</th>\n",
       "      <th>...</th>\n",
       "      <th>Low</th>\n",
       "      <th>High</th>\n",
       "      <th>Left</th>\n",
       "      <th>Right</th>\n",
       "      <th>Head</th>\n",
       "      <th>TI</th>\n",
       "      <th>Other</th>\n",
       "      <th>Out.1</th>\n",
       "      <th>x</th>\n",
       "      <th>y</th>\n",
       "    </tr>\n",
       "  </thead>\n",
       "  <tbody>\n",
       "    <tr>\n",
       "      <th>264</th>\n",
       "      <td>João Cancelo</td>\n",
       "      <td>pt</td>\n",
       "      <td>DF</td>\n",
       "      <td>Manchester City</td>\n",
       "      <td>eng Premier League</td>\n",
       "      <td>27.0</td>\n",
       "      <td>35.9</td>\n",
       "      <td>0.846115</td>\n",
       "      <td>0.760310</td>\n",
       "      <td>-0.003998</td>\n",
       "      <td>...</td>\n",
       "      <td>2.752197</td>\n",
       "      <td>1.667713</td>\n",
       "      <td>-0.183753</td>\n",
       "      <td>2.514024</td>\n",
       "      <td>0.934783</td>\n",
       "      <td>1.793723</td>\n",
       "      <td>-0.293862</td>\n",
       "      <td>2.233119</td>\n",
       "      <td>-4.310088</td>\n",
       "      <td>13.599759</td>\n",
       "    </tr>\n",
       "    <tr>\n",
       "      <th>643</th>\n",
       "      <td>Raphaël Guerreiro</td>\n",
       "      <td>pt</td>\n",
       "      <td>DF</td>\n",
       "      <td>Dortmund</td>\n",
       "      <td>de Bundesliga</td>\n",
       "      <td>27.0</td>\n",
       "      <td>19.9</td>\n",
       "      <td>0.573612</td>\n",
       "      <td>0.779294</td>\n",
       "      <td>0.562280</td>\n",
       "      <td>...</td>\n",
       "      <td>1.676346</td>\n",
       "      <td>0.695431</td>\n",
       "      <td>3.470815</td>\n",
       "      <td>-1.324312</td>\n",
       "      <td>-0.621191</td>\n",
       "      <td>1.572623</td>\n",
       "      <td>-0.039525</td>\n",
       "      <td>-0.125339</td>\n",
       "      <td>-3.031093</td>\n",
       "      <td>8.375959</td>\n",
       "    </tr>\n",
       "    <tr>\n",
       "      <th>1275</th>\n",
       "      <td>Mathias Pereira Lage</td>\n",
       "      <td>pt</td>\n",
       "      <td>DF</td>\n",
       "      <td>Angers</td>\n",
       "      <td>fr Ligue 1</td>\n",
       "      <td>24.0</td>\n",
       "      <td>11.6</td>\n",
       "      <td>0.226790</td>\n",
       "      <td>-0.131927</td>\n",
       "      <td>-0.003998</td>\n",
       "      <td>...</td>\n",
       "      <td>1.855655</td>\n",
       "      <td>0.230896</td>\n",
       "      <td>-0.549210</td>\n",
       "      <td>0.138163</td>\n",
       "      <td>0.128811</td>\n",
       "      <td>1.963334</td>\n",
       "      <td>0.341981</td>\n",
       "      <td>-0.154820</td>\n",
       "      <td>0.906815</td>\n",
       "      <td>0.686655</td>\n",
       "    </tr>\n",
       "    <tr>\n",
       "      <th>1277</th>\n",
       "      <td>Ricardo Pereira</td>\n",
       "      <td>pt</td>\n",
       "      <td>DF</td>\n",
       "      <td>Leicester City</td>\n",
       "      <td>eng Premier League</td>\n",
       "      <td>27.0</td>\n",
       "      <td>11.0</td>\n",
       "      <td>2.840341</td>\n",
       "      <td>2.222061</td>\n",
       "      <td>2.487627</td>\n",
       "      <td>...</td>\n",
       "      <td>1.963240</td>\n",
       "      <td>0.695431</td>\n",
       "      <td>-0.442247</td>\n",
       "      <td>0.824523</td>\n",
       "      <td>-0.565220</td>\n",
       "      <td>2.187463</td>\n",
       "      <td>-1.099264</td>\n",
       "      <td>-1.127684</td>\n",
       "      <td>-2.514893</td>\n",
       "      <td>4.320226</td>\n",
       "    </tr>\n",
       "    <tr>\n",
       "      <th>1577</th>\n",
       "      <td>Nuno Tavares</td>\n",
       "      <td>pt</td>\n",
       "      <td>DF</td>\n",
       "      <td>Arsenal</td>\n",
       "      <td>eng Premier League</td>\n",
       "      <td>21.0</td>\n",
       "      <td>13.1</td>\n",
       "      <td>-0.330602</td>\n",
       "      <td>-0.340749</td>\n",
       "      <td>-0.324889</td>\n",
       "      <td>...</td>\n",
       "      <td>1.819793</td>\n",
       "      <td>-0.168820</td>\n",
       "      <td>1.626389</td>\n",
       "      <td>-1.114298</td>\n",
       "      <td>-0.554026</td>\n",
       "      <td>1.714975</td>\n",
       "      <td>-0.760148</td>\n",
       "      <td>0.965448</td>\n",
       "      <td>-0.212469</td>\n",
       "      <td>2.561519</td>\n",
       "    </tr>\n",
       "  </tbody>\n",
       "</table>\n",
       "<p>5 rows × 103 columns</p>\n",
       "</div>"
      ],
      "text/plain": [
       "                    Player Nation Pos            Squad                Comp  \\\n",
       "264           João Cancelo     pt  DF  Manchester City  eng Premier League   \n",
       "643      Raphaël Guerreiro     pt  DF         Dortmund       de Bundesliga   \n",
       "1275  Mathias Pereira Lage     pt  DF           Angers          fr Ligue 1   \n",
       "1277       Ricardo Pereira     pt  DF   Leicester City  eng Premier League   \n",
       "1577          Nuno Tavares     pt  DF          Arsenal  eng Premier League   \n",
       "\n",
       "       Age   90s  tackles_Tkl  tackles_TklW  tackles_Def 3rd  ...       Low  \\\n",
       "264   27.0  35.9     0.846115      0.760310        -0.003998  ...  2.752197   \n",
       "643   27.0  19.9     0.573612      0.779294         0.562280  ...  1.676346   \n",
       "1275  24.0  11.6     0.226790     -0.131927        -0.003998  ...  1.855655   \n",
       "1277  27.0  11.0     2.840341      2.222061         2.487627  ...  1.963240   \n",
       "1577  21.0  13.1    -0.330602     -0.340749        -0.324889  ...  1.819793   \n",
       "\n",
       "          High      Left     Right      Head        TI     Other     Out.1  \\\n",
       "264   1.667713 -0.183753  2.514024  0.934783  1.793723 -0.293862  2.233119   \n",
       "643   0.695431  3.470815 -1.324312 -0.621191  1.572623 -0.039525 -0.125339   \n",
       "1275  0.230896 -0.549210  0.138163  0.128811  1.963334  0.341981 -0.154820   \n",
       "1277  0.695431 -0.442247  0.824523 -0.565220  2.187463 -1.099264 -1.127684   \n",
       "1577 -0.168820  1.626389 -1.114298 -0.554026  1.714975 -0.760148  0.965448   \n",
       "\n",
       "             x          y  \n",
       "264  -4.310088  13.599759  \n",
       "643  -3.031093   8.375959  \n",
       "1275  0.906815   0.686655  \n",
       "1277 -2.514893   4.320226  \n",
       "1577 -0.212469   2.561519  \n",
       "\n",
       "[5 rows x 103 columns]"
      ]
     },
     "execution_count": 20,
     "metadata": {},
     "output_type": "execute_result"
    }
   ],
   "source": [
    "paretoset_hotels"
   ]
  },
  {
   "cell_type": "code",
   "execution_count": 19,
   "metadata": {
    "collapsed": false,
    "jupyter": {
     "outputs_hidden": false
    },
    "pycharm": {
     "name": "#%%\n"
    }
   },
   "outputs": [
    {
     "name": "stderr",
     "output_type": "stream",
     "text": [
      "C:\\Users\\Ricardo\\anaconda3\\envs\\deepL\\lib\\site-packages\\matplotlib\\collections.py:1039: UserWarning: Collection without array used. Make sure to specify the values to be colormapped via the `c` argument.\n",
      "  warnings.warn(\"Collection without array used. Make sure to \"\n"
     ]
    },
    {
     "data": {
      "image/png": "[encoded data removed]",
      "text/plain": [
       "<Figure size 720x720 with 1 Axes>"
      ]
     },
     "metadata": {
      "needs_background": "light"
     },
     "output_type": "display_data"
    }
   ],
   "source": [
    "data_pt = df_all_stats.loc[df_all_stats.Nation == \"pt\"].loc[df_all_stats.Pos == \"DF\"]\n",
    "\n",
    "mask = paretoset(data_pt[['x', 'y']], sense=[\"max\", \"max\"])\n",
    "paretoset_hotels = data_pt[mask]\n",
    "paretoset_hotels\n",
    "\n",
    "plt.figure(figsize = (10,10))\n",
    "scatter = plt.scatter(data_pt.x, data_pt.y)\n",
    "plt.legend(*scatter.legend_elements())\n",
    "plt.scatter(paretoset_hotels.x, paretoset_hotels.y, color=\"red\")\n",
    "plt.show()"
   ]
  },
  {
   "cell_type": "code",
   "execution_count": 21,
   "metadata": {
    "collapsed": false,
    "jupyter": {
     "outputs_hidden": false
    },
    "pycharm": {
     "name": "#%%\n"
    }
   },
   "outputs": [
    {
     "name": "stdout",
     "output_type": "stream",
     "text": [
      "Domingos Duarte, Mathias Pereira Lage, João Cancelo, Nélson Semedo, Guilherme Ramos, Nuno Tavares, Rúben Vezo, Rúben Dias, José Fonte, "
     ]
    }
   ],
   "source": [
    "df_all_stats[\"MP\"] = df_all_stats[\"90s\"]*90\n",
    "df_filtered = df_all_stats.loc[df_all_stats[\"MP\"]> 700].copy()\n",
    "\n",
    "data_df = df_filtered[['Pressure_Press', 'Pressure_Mid 3rd', 'Pressure_Att 3rd', 'Blocks_Sh', 'Clr',\n",
    "                       'Prgsv_Dist', 'Medium_Pass_Cmp', 'Medium_Pass_Att', 'Touches_DefPen',\n",
    "                       'Touches_Def3rd', 'Touches_AttPen', 'Prog_Pass', 'Poss_Fail', 'Sh', 'SoT', 'xG',\n",
    "                       'SCA', 'shot_PassLive']]\n",
    "\n",
    "pca = PCA(n_components=3)\n",
    "pca.fit(data_df)\n",
    "data_pca = pca.transform(data_df)\n",
    "\n",
    "df_filtered[\"x\"] = data_pca[:,0]\n",
    "df_filtered[\"y\"] = data_pca[:,1]\n",
    "df_filtered[\"z\"] = data_pca[:,2]\n",
    "\n",
    "pareto = pareto_position_country_season(df_filtered,'DF','pt',[\"x\",\"y\",\"z\"])\n",
    "for player in pareto:\n",
    "    print(player[0][0],end=\", \")"
   ]
  },
  {
   "cell_type": "code",
   "execution_count": null,
   "metadata": {
    "collapsed": false,
    "jupyter": {
     "outputs_hidden": false
    },
    "pycharm": {
     "name": "#%%\n"
    }
   },
   "outputs": [],
   "source": []
  },
  {
   "cell_type": "code",
   "execution_count": 22,
   "metadata": {
    "collapsed": false,
    "jupyter": {
     "outputs_hidden": false
    },
    "pycharm": {
     "name": "#%%\n"
    }
   },
   "outputs": [
    {
     "name": "stdout",
     "output_type": "stream",
     "text": [
      "Xeka, William Carvalho, Renato Sanches, Florentino Luís, Rúben Neves, Sérgio Oliveira, Danilo Pereira, João Moutinho, Bernardo Silva, "
     ]
    }
   ],
   "source": [
    "\n",
    "\n",
    "data_mf = df_filtered[['Blocks', 'GCA', 'Pressure_Att 3rd', 'Pressure_Def 3rd', 'Pressure_Mid 3rd',\n",
    "                        'Pressure_Press', 'Pressure_Succ', 'Prgsv_Dist', 'SCA', 'Touches_Att3rd',\n",
    "                        'Touches_Def3rd', 'Touches_Mid3rd', 'Ttl_Dist_Pass', 'Ttl_Pass_Compl',\n",
    "                        'tackles_Att 3rd', 'tackles_Def 3rd', 'tackles_Mid 3rd', 'vsDriblers_Att',\n",
    "                        'vsDriblers_Past']]\n",
    "\n",
    "pca = PCA(n_components=3)\n",
    "pca.fit(data_mf)\n",
    "data_pca = pca.transform(data_mf)\n",
    "\n",
    "df_filtered[\"x\"] = data_pca[:,0]\n",
    "df_filtered[\"y\"] = data_pca[:,1]\n",
    "df_filtered[\"z\"] = data_pca[:,2]\n",
    "\n",
    "pareto = pareto_position_country_season(df_filtered,'MF','pt',[\"x\",\"y\",\"z\"])\n",
    "for player in pareto:\n",
    "    print(player[0][0] ,end=\", \")\n",
    "\n"
   ]
  },
  {
   "cell_type": "code",
   "execution_count": 92,
   "metadata": {
    "collapsed": false,
    "jupyter": {
     "outputs_hidden": false
    },
    "pycharm": {
     "name": "#%%\n"
    }
   },
   "outputs": [],
   "source": [
    "row1 = df_filtered.loc[df_filtered.Player==\"William Carvalho\"][[\"x\",\"y\",\"z\"]]\n",
    "\n",
    "row2 = df_filtered.loc[df_filtered.Player==\"David Pereira da Costa\"][[\"x\",\"y\",\"z\"]]"
   ]
  },
  {
   "cell_type": "code",
   "execution_count": 23,
   "metadata": {
    "collapsed": false,
    "jupyter": {
     "outputs_hidden": false
    },
    "pycharm": {
     "name": "#%%\n"
    }
   },
   "outputs": [
    {
     "ename": "ValueError",
     "evalue": "too many values to unpack (expected 2)",
     "output_type": "error",
     "traceback": [
      "\u001b[1;31m---------------------------------------------------------------------------\u001b[0m",
      "\u001b[1;31mValueError\u001b[0m                                Traceback (most recent call last)",
      "\u001b[1;32m~\\AppData\\Local\\Temp\\ipykernel_18164\\1466791781.py\u001b[0m in \u001b[0;36m<module>\u001b[1;34m\u001b[0m\n\u001b[0;32m     13\u001b[0m \u001b[0mdf_filtered\u001b[0m\u001b[1;33m[\u001b[0m\u001b[1;34m\"z\"\u001b[0m\u001b[1;33m]\u001b[0m \u001b[1;33m=\u001b[0m \u001b[0mdata_pca\u001b[0m\u001b[1;33m[\u001b[0m\u001b[1;33m:\u001b[0m\u001b[1;33m,\u001b[0m\u001b[1;36m2\u001b[0m\u001b[1;33m]\u001b[0m\u001b[1;33m\u001b[0m\u001b[1;33m\u001b[0m\u001b[0m\n\u001b[0;32m     14\u001b[0m \u001b[1;33m\u001b[0m\u001b[0m\n\u001b[1;32m---> 15\u001b[1;33m \u001b[0mpareto\u001b[0m\u001b[1;33m,\u001b[0m \u001b[0m_\u001b[0m \u001b[1;33m=\u001b[0m \u001b[0mpareto_position_country_season\u001b[0m\u001b[1;33m(\u001b[0m\u001b[0mdf_filtered\u001b[0m\u001b[1;33m,\u001b[0m\u001b[1;34m'FW'\u001b[0m\u001b[1;33m,\u001b[0m\u001b[1;34m'pt'\u001b[0m\u001b[1;33m,\u001b[0m\u001b[1;33m[\u001b[0m\u001b[1;34m\"x\"\u001b[0m\u001b[1;33m,\u001b[0m\u001b[1;34m\"y\"\u001b[0m\u001b[1;33m,\u001b[0m\u001b[1;34m\"z\"\u001b[0m\u001b[1;33m]\u001b[0m\u001b[1;33m)\u001b[0m\u001b[1;33m\u001b[0m\u001b[1;33m\u001b[0m\u001b[0m\n\u001b[0m\u001b[0;32m     16\u001b[0m \u001b[1;32mfor\u001b[0m \u001b[0mplayer\u001b[0m \u001b[1;32min\u001b[0m \u001b[0mpareto\u001b[0m\u001b[1;33m:\u001b[0m\u001b[1;33m\u001b[0m\u001b[1;33m\u001b[0m\u001b[0m\n\u001b[0;32m     17\u001b[0m     \u001b[0mprint\u001b[0m\u001b[1;33m(\u001b[0m\u001b[0mplayer\u001b[0m\u001b[1;33m[\u001b[0m\u001b[1;36m0\u001b[0m\u001b[1;33m]\u001b[0m\u001b[1;33m[\u001b[0m\u001b[1;36m0\u001b[0m\u001b[1;33m]\u001b[0m\u001b[1;33m,\u001b[0m\u001b[0mend\u001b[0m\u001b[1;33m=\u001b[0m\u001b[1;34m\", \"\u001b[0m\u001b[1;33m)\u001b[0m\u001b[1;33m\u001b[0m\u001b[1;33m\u001b[0m\u001b[0m\n",
      "\u001b[1;31mValueError\u001b[0m: too many values to unpack (expected 2)"
     ]
    }
   ],
   "source": [
    "data_fw = df_filtered[['tackles_Def 3rd', 'Pressure_Def 3rd', 'Pressure_Att 3rd', 'Blocks', 'Int',\n",
    "                        'Ttl_Pass_Compl', 'Ttl_Pass_Att', 'Ttl_Dist_Pass', 'Prgsv_Dist',\n",
    "                        'Medium_Pass_Cmp', 'Medium_Pass_Att', 'Long_Pass_Cmp', 'Long_Pass_Att',\n",
    "                        'Touches_Ttl', 'Touches_Def3rd', 'Touches_Mid3rd', 'Touches_AttPen',\n",
    "                        'Touches_Live', 'CPA', 'Prog_Pass', 'Poss_Fail', 'Gls', 'Sh', 'SoT', 'xG'] ]\n",
    "\n",
    "pca = PCA(n_components=3)\n",
    "pca.fit(data_fw)\n",
    "data_pca = pca.transform(data_fw)\n",
    "\n",
    "df_filtered[\"x\"] = data_pca[:,0]\n",
    "df_filtered[\"y\"] = data_pca[:,1]\n",
    "df_filtered[\"z\"] = data_pca[:,2]\n",
    "\n",
    "pareto, _ = pareto_position_country_season(df_filtered,'FW','pt',[\"x\",\"y\",\"z\"])\n",
    "for player in pareto:\n",
    "    print(player[0][0],end=\", \")"
   ]
  },
  {
   "cell_type": "code",
   "execution_count": 150,
   "metadata": {
    "collapsed": false,
    "jupyter": {
     "outputs_hidden": false
    },
    "pycharm": {
     "name": "#%%\n"
    }
   },
   "outputs": [],
   "source": [
    "def dominates_df(row, candidateRow):\n",
    "    return sum([row.values[0][x] >= candidateRow.values[0][x] for x in range(len(row.values[0]))]) == len(row.values[0])"
   ]
  },
  {
   "cell_type": "code",
   "execution_count": 70,
   "metadata": {
    "collapsed": false,
    "jupyter": {
     "outputs_hidden": false
    },
    "pycharm": {
     "name": "#%%\n"
    }
   },
   "outputs": [],
   "source": [
    "dominates_df(row2,row1)"
   ]
  },
  {
   "cell_type": "code",
   "execution_count": 71,
   "metadata": {
    "collapsed": false,
    "jupyter": {
     "outputs_hidden": false
    },
    "pycharm": {
     "name": "#%%\n"
    }
   },
   "outputs": [
    {
     "name": "stdout",
     "output_type": "stream",
     "text": [
      "a\n"
     ]
    }
   ],
   "source": []
  },
  {
   "cell_type": "code",
   "execution_count": 71,
   "metadata": {
    "collapsed": false,
    "jupyter": {
     "outputs_hidden": false
    },
    "pycharm": {
     "name": "#%%\n"
    }
   },
   "outputs": [],
   "source": [
    "print(\"a\")"
   ]
  },
  {
   "cell_type": "code",
   "execution_count": 71,
   "metadata": {
    "collapsed": false,
    "jupyter": {
     "outputs_hidden": false
    },
    "pycharm": {
     "name": "#%%\n"
    }
   },
   "outputs": [],
   "source": []
  },
  {
   "cell_type": "code",
   "execution_count": 71,
   "metadata": {
    "collapsed": false,
    "jupyter": {
     "outputs_hidden": false
    },
    "pycharm": {
     "name": "#%%\n"
    }
   },
   "outputs": [],
   "source": []
  },
  {
   "cell_type": "code",
   "execution_count": null,
   "metadata": {
    "collapsed": false,
    "jupyter": {
     "outputs_hidden": false
    },
    "pycharm": {
     "name": "#%%\n"
    }
   },
   "outputs": [],
   "source": []
  },
  {
   "cell_type": "code",
   "execution_count": 24,
   "metadata": {
    "collapsed": false,
    "jupyter": {
     "outputs_hidden": false
    },
    "pycharm": {
     "name": "#%%\n"
    }
   },
   "outputs": [
    {
     "data": {
      "text/plain": [
       "2"
      ]
     },
     "execution_count": 24,
     "metadata": {},
     "output_type": "execute_result"
    }
   ],
   "source": [
    "dict_pos = {\n",
    "        \"DEF\": 2,\n",
    "        \"MED\": 3,\n",
    "        \"ATT\": 4\n",
    "    }\n",
    "\n",
    "dict_pos[\"DEF\"]"
   ]
  },
  {
   "cell_type": "code",
   "execution_count": null,
   "metadata": {},
   "outputs": [],
   "source": []
  }
 ],
 "metadata": {
  "kernelspec": {
   "display_name": "Python 3 (ipykernel)",
   "language": "python",
   "name": "python3"
  },
  "language_info": {
   "codemirror_mode": {
    "name": "ipython",
    "version": 3
   },
   "file_extension": ".py",
   "mimetype": "text/x-python",
   "name": "python",
   "nbconvert_exporter": "python",
   "pygments_lexer": "ipython3",
   "version": "3.7.9"
  }
 },
 "nbformat": 4,
 "nbformat_minor": 4
}
